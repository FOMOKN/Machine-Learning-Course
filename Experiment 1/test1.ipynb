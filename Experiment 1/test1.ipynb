{
 "cells": [
  {
   "cell_type": "raw",
   "id": "3d16f61e9bd26e4f",
   "metadata": {
    "collapsed": false
   },
   "source": [
    "## 1. Scikit-learn的介绍"
   ]
  },
  {
   "cell_type": "raw",
   "id": "ebbc3bc9ec90509",
   "metadata": {
    "collapsed": false
   },
   "source": [
    "Scikit-learn是基于NumPy、SciPy和Matplotlib的开源Python机器学习包，它封装了一系列数据预处理、机器学习算法、模型选择等工具，是数据分析师首选的机器学习工具包。\n",
    "自2007年发布以来，Scikit-learn已经成为Python重要的机器学习库了，Scikit-learn简称sklearn，支持包括分类、回归、降维和聚类四大机器学习算法，还包括了特征提取、数据处理和模型评估三大模块。\n",
    "## 1.  Scikit-learn概述\n",
    "\n",
    "Scikit-Learn (简称 Sklearn) 是基于 Python 语言的机器学习工具。它建立在 NumPy、\n",
    "SciPy、Pandas和 Matplotlib 之上，里面的 API\n",
    "的设计非常好，所有对象的接口简单，很适合新手上路。\n",
    "\n",
    "Scikit-Learn库的算法主要有四类：分类、回归、聚类、降维。其中：\n",
    "\n",
    "1.  常用的回归：线性回归、决策树回归、SVM回归、KNN\n",
    "    回归；集成回归：随机森林、Adaboost、GradientBoosting、Bagging、ExtraTrees。\n",
    "\n",
    "2.  常用的分类：线性分类、决策树、SVM、KNN，朴素贝叶斯；集成分类：随机森林、Adaboost、GradientBoosting、Bagging、ExtraTrees。\n",
    "\n",
    "3.  常用聚类：K均值(K-means)、层次聚类(Hierarchical clustering)、DBSCAN。\n",
    "\n",
    "4.  常用降维：LinearDiscriminantAnalysis、PCA。\n",
    "\n",
    "Scikit-Learn中包含众多数据预处理和特征工程相关的模块，但其实Sklearn六大板块中有两块都是关于数据预处理和特征工程的，两个板块互相交互，为建模之前的全部工程打下基础。\n",
    "\n",
    "\n"
   ]
  },
  {
   "cell_type": "markdown",
   "id": "7b51093a2d29b088",
   "metadata": {
    "collapsed": false
   },
   "source": [
    "## 2.Scikit-learn主要用法\n",
    "\n",
    "### 2.1.基本建模流程\n",
    "\n",
    "基本建模的符号标记见下表：\n",
    "\n",
    "\n",
    "| 符号    | 代表含义 | 符号    | 代表含义   |\n",
    "|---------|----------|---------|------------|\n",
    "| X_train | 训练数据 | y_train | 训练集标签 |\n",
    "| X_test  | 测试数据 | y_test  | 测试集标签 |\n",
    "| X       | 完整数据 | y       | 数据标签   |\n",
    "|         |          | y_pred  | 预测标签   |"
   ]
  },
  {
   "cell_type": "markdown",
   "id": "e7ff72581dd707ab",
   "metadata": {
    "collapsed": false
   },
   "source": [
    "### 2.1.1.导入工具包\n",
    "\n",
    "导入工具包的方法如下(这里使用伪代码)：\n",
    "\n",
    "`from sklearn import 包名称`\n",
    "`from sklearn.库名称 import 包名称`\n",
    "例如："
   ]
  },
  {
   "cell_type": "code",
   "execution_count": 1,
   "id": "f553db6927eb3ac9",
   "metadata": {
    "collapsed": false
   },
   "outputs": [],
   "source": [
    "from sklearn import datasets, preprocessing  \n",
    "#导入数据集，数据预处理库  \n",
    "from sklearn.model_selection import train_test_split    \n",
    "#从模型选择库导入数据切分包  \n",
    "from sklearn.linear_model import LinearRegression    \n",
    "#从线性模型库导入线性回归包  \n",
    "from sklearn.metrics import r2_score  \n",
    "#从评价指标库导入R2评价指标\n",
    "#导入类库和加载数据集\n",
    "import pandas as pd\n",
    "import numpy as np\n",
    "import matplotlib.pyplot as plt\n",
    "import seaborn as sns\n",
    "%matplotlib inline\n"
   ]
  },
  {
   "cell_type": "raw",
   "id": "4a89d13dbc297bc5",
   "metadata": {
    "collapsed": false
   },
   "source": [
    "### 2.1.2 导入数据\n",
    "\n",
    "导入数据的方法如下：\n",
    "\n",
    "`from sklearn.datasets import 数据名称`\n",
    "\n",
    "Scikit-learn支持以NumPy的arrays对象、Pandas对象、SciPy的稀疏矩阵及其他可转换为数值型arrays的数据结构作为其输入，前提是数据必须是数值型的。\n",
    "\n",
    "sklearn.datasets模块提供了一系列加载和获取著名数据集如鸢尾花、波士顿房价、Olivetti人脸、MNIST数据集等的工具，也包括了一些toy\n",
    "data如S型数据等的生成工具。\n",
    "\n",
    "Scikit-learn内置了很多可以用于机器学习的数据，可以用两行代码就可以使用这些数据。内置数据分为可以直接使用的数据集、需下载的数据集以及生成数据集。\n",
    "\n",
    "- 1.可以直接使用的自带数据集\n",
    "\n",
    "此类数据集可以直接导入使用数据，数据集和描述见下表：\n",
    "\n",
    "\n",
    "| 数据集名称               | 描述           | 类型       | 维度           |\n",
    "|--------------------------|----------------|------------|----------------|\n",
    "| load_boston              | Boston房屋价格 | 回归       | 506\\*13        |\n",
    "| fetch_california_housing | 加州住房       | 回归       | 20640\\*9       |\n",
    "| load_diabetes            | 糖尿病         | 回归       | 442\\*10        |\n",
    "| load_digits              | 手写字         | 分类       | 1797\\*64       |\n",
    "| load_breast_cancer       | 乳腺癌         | 分类、聚类 | (357+212)\\*30  |\n",
    "| load_iris                | 鸢尾花         | 分类、聚类 | (50\\*3)\\*4     |\n",
    "| load_wine                | 葡萄酒         | 分类       | (59+71+48)\\*13 |\n",
    "| load_linnerud            | 体能训练       | 多分类     | 20             |\n",
    "\n",
    "- 2.需要下载的自带数据集\n",
    "\n",
    "此类数据集第一次使用，需要联网下载数据，数据集和描述见下表：\n",
    "\n",
    "\n",
    "| 数据集名称                    | 描述                                                                                                                                                                                                             |\n",
    "|-------------------------------|------------------------------------------------------------------------------------------------------------------------------------------------------------------------------------------------------------------|\n",
    "| fetch_20newsgroups            | 用于文本分类、文本挖据和信息检索研究的国际标准数据集之一。数据集收集了大约20,000左右的新闻组文档，均匀分为20个不同主题的新闻组集合。返回一个可以被文本特征提取器                                                 |\n",
    "| fetch_20newsgroups_vectorized | 这是上面这个文本数据的向量化后的数据，返回一个已提取特征的文本序列，即不需要使用特征提取器                                                                                                                       |\n",
    "| fetch_california_housing      | 加利福尼亚的房价数据，总计20640个样本，每个样本8个属性表示，以及房价作为target，所有属性值均为number，详情可调用。如：fetch_california_housing( )['DESCR']，了解每个属性的具体含义；                             |\n",
    "| fetch_covtype                 | 森林植被类型，总计581012个样本，每个样本由54个维度表示(12个属性，其中2个分别是onehot4维和onehot40维)，以及target表示植被类型1-7，所有属性值均为number，详情可调用fetch_covtype( )['DESCR']了解每个属性的具体含义 |\n",
    "| fetch_kddcup99                | KDD竞赛在1999年举行时采用的数据集，KDD99数据集仍然是网络入侵检测领域的事实Benckmark，为基于计算智能的网络入侵检测研究奠定基础，包含41项特征                                                                      |\n",
    "| fetch_lfw_pairs               | 该任务称为人脸验证：给定一对两张图片，二分类器必须预测这两个图片是否来自同一个人。                                                                                                                               |\n",
    "| fetch_lfw_people              | 打好标签的人脸数据集                                                                                                                                                                                             |\n",
    "| fetch_mldata                  | 从 mldata.org 中下载数据集                                                                                                                                                                                       |\n",
    "| fetch_olivetti_faces          | Olivetti 脸部图片数据集                                                                                                                                                                                          |\n",
    "| fetch_rcv1                    | 路透社新闻语聊数据集                                                                                                                                                                                             |\n",
    "| fetch_species_distributions   | 物种分布数据集                                                                                                                                                                                                   |\n",
    "\n",
    "- 3.生成数据集\n",
    "\n",
    "此类数据集可以用来分类任务，可以用来回归任务，可以用来聚类任务，用于流形学习的，用于因子分解任务的，用于分类任务和聚类任务的：这些函数产生样本特征向量矩阵以及对应的类别标签集合，数据集和描述见下表：\n",
    "\n",
    "\n",
    "| 数据集名称              | 描述                                                                                                                       |\n",
    "|-------------------------|----------------------------------------------------------------------------------------------------------------------------|\n",
    "| make_blobs              | 多类单标签数据集，为每个类分配一个或多个正态分布的点集                                                                     |\n",
    "| make_classification     | 多类单标签数据集，为每个类分配一个或多个正态分布的点集，提供了为数据添加噪声的方式，包括维度相关性，无效特征以及冗余特征等 |\n",
    "| make_gaussian-quantiles | 将一个单高斯分布的点集划分为两个数量均等的点集，作为两类                                                                   |\n",
    "| make_hastie-10-2        | 产生一个相似的二元分类数据集，有10个维度                                                                                   |\n",
    "| make_circle和make_moons | 产生二维二元分类数据集来测试某些算法的性能，可以为数据集添加噪声，可以为二元分类器产生一些球形判决界面的数据               |"
   ]
  },
  {
   "cell_type": "code",
   "execution_count": 42,
   "id": "8144206c527e9990",
   "metadata": {
    "collapsed": false
   },
   "outputs": [],
   "source": [
    "#导入数据集\n",
    "train_columns = [\"date\",\"price\",\"bedroom_num\",\"bathroom_num\",\"house_area\",\"park_space\",\"floor_num\",\n",
    "                \"house_score\",\"covered_area\",\"basement_area\",\"yearbuilt\",\"yearremodadd\",\"lat\",\"long\"]\n",
    "test_columns = [\"date\",\"bedroom_num\",\"bathroom_num\",\"house_area\",\"park_space\",\"floor_num\",\n",
    "                \"house_score\",\"covered_area\",\"basement_area\",\"yearbuilt\",\"yearremodadd\",\"lat\",\"long\"]\n",
    "train_df = pd.read_csv(r'C:\\Users\\FOMO\\Desktop\\机械学习\\实验1\\线性回归数据集\\kc_train.csv', names=train_columns)\n",
    "test_df = pd.read_csv(r'C:\\Users\\FOMO\\Desktop\\机械学习\\实验1\\线性回归数据集\\kc_test.csv', names=test_columns)"
   ]
  },
  {
   "cell_type": "code",
   "execution_count": 43,
   "metadata": {},
   "outputs": [
    {
     "data": {
      "text/html": [
       "<div>\n",
       "<style scoped>\n",
       "    .dataframe tbody tr th:only-of-type {\n",
       "        vertical-align: middle;\n",
       "    }\n",
       "\n",
       "    .dataframe tbody tr th {\n",
       "        vertical-align: top;\n",
       "    }\n",
       "\n",
       "    .dataframe thead th {\n",
       "        text-align: right;\n",
       "    }\n",
       "</style>\n",
       "<table border=\"1\" class=\"dataframe\">\n",
       "  <thead>\n",
       "    <tr style=\"text-align: right;\">\n",
       "      <th></th>\n",
       "      <th>date</th>\n",
       "      <th>price</th>\n",
       "      <th>bedroom_num</th>\n",
       "      <th>bathroom_num</th>\n",
       "      <th>house_area</th>\n",
       "      <th>park_space</th>\n",
       "      <th>floor_num</th>\n",
       "      <th>house_score</th>\n",
       "      <th>covered_area</th>\n",
       "      <th>basement_area</th>\n",
       "      <th>yearbuilt</th>\n",
       "      <th>yearremodadd</th>\n",
       "      <th>lat</th>\n",
       "      <th>long</th>\n",
       "    </tr>\n",
       "  </thead>\n",
       "  <tbody>\n",
       "    <tr>\n",
       "      <th>0</th>\n",
       "      <td>20150302</td>\n",
       "      <td>545000</td>\n",
       "      <td>3</td>\n",
       "      <td>2.25</td>\n",
       "      <td>1670</td>\n",
       "      <td>6240</td>\n",
       "      <td>1.0</td>\n",
       "      <td>8</td>\n",
       "      <td>1240</td>\n",
       "      <td>430</td>\n",
       "      <td>1974</td>\n",
       "      <td>0</td>\n",
       "      <td>47.6413</td>\n",
       "      <td>-122.113</td>\n",
       "    </tr>\n",
       "    <tr>\n",
       "      <th>1</th>\n",
       "      <td>20150211</td>\n",
       "      <td>785000</td>\n",
       "      <td>4</td>\n",
       "      <td>2.50</td>\n",
       "      <td>3300</td>\n",
       "      <td>10514</td>\n",
       "      <td>2.0</td>\n",
       "      <td>10</td>\n",
       "      <td>3300</td>\n",
       "      <td>0</td>\n",
       "      <td>1984</td>\n",
       "      <td>0</td>\n",
       "      <td>47.6323</td>\n",
       "      <td>-122.036</td>\n",
       "    </tr>\n",
       "    <tr>\n",
       "      <th>2</th>\n",
       "      <td>20150107</td>\n",
       "      <td>765000</td>\n",
       "      <td>3</td>\n",
       "      <td>3.25</td>\n",
       "      <td>3190</td>\n",
       "      <td>5283</td>\n",
       "      <td>2.0</td>\n",
       "      <td>9</td>\n",
       "      <td>3190</td>\n",
       "      <td>0</td>\n",
       "      <td>2007</td>\n",
       "      <td>0</td>\n",
       "      <td>47.5534</td>\n",
       "      <td>-122.002</td>\n",
       "    </tr>\n",
       "    <tr>\n",
       "      <th>3</th>\n",
       "      <td>20141103</td>\n",
       "      <td>720000</td>\n",
       "      <td>5</td>\n",
       "      <td>2.50</td>\n",
       "      <td>2900</td>\n",
       "      <td>9525</td>\n",
       "      <td>2.0</td>\n",
       "      <td>9</td>\n",
       "      <td>2900</td>\n",
       "      <td>0</td>\n",
       "      <td>1989</td>\n",
       "      <td>0</td>\n",
       "      <td>47.5442</td>\n",
       "      <td>-122.138</td>\n",
       "    </tr>\n",
       "    <tr>\n",
       "      <th>4</th>\n",
       "      <td>20140603</td>\n",
       "      <td>449500</td>\n",
       "      <td>5</td>\n",
       "      <td>2.75</td>\n",
       "      <td>2040</td>\n",
       "      <td>7488</td>\n",
       "      <td>1.0</td>\n",
       "      <td>7</td>\n",
       "      <td>1200</td>\n",
       "      <td>840</td>\n",
       "      <td>1969</td>\n",
       "      <td>0</td>\n",
       "      <td>47.7289</td>\n",
       "      <td>-122.172</td>\n",
       "    </tr>\n",
       "  </tbody>\n",
       "</table>\n",
       "</div>"
      ],
      "text/plain": [
       "       date   price  bedroom_num  bathroom_num  house_area  park_space  \\\n",
       "0  20150302  545000            3          2.25        1670        6240   \n",
       "1  20150211  785000            4          2.50        3300       10514   \n",
       "2  20150107  765000            3          3.25        3190        5283   \n",
       "3  20141103  720000            5          2.50        2900        9525   \n",
       "4  20140603  449500            5          2.75        2040        7488   \n",
       "\n",
       "   floor_num  house_score  covered_area  basement_area  yearbuilt  \\\n",
       "0        1.0            8          1240            430       1974   \n",
       "1        2.0           10          3300              0       1984   \n",
       "2        2.0            9          3190              0       2007   \n",
       "3        2.0            9          2900              0       1989   \n",
       "4        1.0            7          1200            840       1969   \n",
       "\n",
       "   yearremodadd      lat     long  \n",
       "0             0  47.6413 -122.113  \n",
       "1             0  47.6323 -122.036  \n",
       "2             0  47.5534 -122.002  \n",
       "3             0  47.5442 -122.138  \n",
       "4             0  47.7289 -122.172  "
      ]
     },
     "execution_count": 43,
     "metadata": {},
     "output_type": "execute_result"
    }
   ],
   "source": [
    "#查看数据集\n",
    "train_df.head()"
   ]
  },
  {
   "cell_type": "code",
   "execution_count": 44,
   "metadata": {},
   "outputs": [
    {
     "name": "stdout",
     "output_type": "stream",
     "text": [
      "<class 'pandas.core.frame.DataFrame'>\n",
      "RangeIndex: 10000 entries, 0 to 9999\n",
      "Data columns (total 14 columns):\n",
      " #   Column         Non-Null Count  Dtype  \n",
      "---  ------         --------------  -----  \n",
      " 0   date           10000 non-null  int64  \n",
      " 1   price          10000 non-null  int64  \n",
      " 2   bedroom_num    10000 non-null  int64  \n",
      " 3   bathroom_num   10000 non-null  float64\n",
      " 4   house_area     10000 non-null  int64  \n",
      " 5   park_space     10000 non-null  int64  \n",
      " 6   floor_num      10000 non-null  float64\n",
      " 7   house_score    10000 non-null  int64  \n",
      " 8   covered_area   10000 non-null  int64  \n",
      " 9   basement_area  10000 non-null  int64  \n",
      " 10  yearbuilt      10000 non-null  int64  \n",
      " 11  yearremodadd   10000 non-null  int64  \n",
      " 12  lat            10000 non-null  float64\n",
      " 13  long           10000 non-null  float64\n",
      "dtypes: float64(4), int64(10)\n",
      "memory usage: 1.1 MB\n"
     ]
    }
   ],
   "source": [
    "# 观察数据集概况\n",
    "train_df.info()"
   ]
  },
  {
   "cell_type": "code",
   "execution_count": 45,
   "metadata": {},
   "outputs": [
    {
     "data": {
      "text/html": [
       "<div>\n",
       "<style scoped>\n",
       "    .dataframe tbody tr th:only-of-type {\n",
       "        vertical-align: middle;\n",
       "    }\n",
       "\n",
       "    .dataframe tbody tr th {\n",
       "        vertical-align: top;\n",
       "    }\n",
       "\n",
       "    .dataframe thead th {\n",
       "        text-align: right;\n",
       "    }\n",
       "</style>\n",
       "<table border=\"1\" class=\"dataframe\">\n",
       "  <thead>\n",
       "    <tr style=\"text-align: right;\">\n",
       "      <th></th>\n",
       "      <th>date</th>\n",
       "      <th>bedroom_num</th>\n",
       "      <th>bathroom_num</th>\n",
       "      <th>house_area</th>\n",
       "      <th>park_space</th>\n",
       "      <th>floor_num</th>\n",
       "      <th>house_score</th>\n",
       "      <th>covered_area</th>\n",
       "      <th>basement_area</th>\n",
       "      <th>yearbuilt</th>\n",
       "      <th>yearremodadd</th>\n",
       "      <th>lat</th>\n",
       "      <th>long</th>\n",
       "    </tr>\n",
       "  </thead>\n",
       "  <tbody>\n",
       "    <tr>\n",
       "      <th>0</th>\n",
       "      <td>20140502</td>\n",
       "      <td>2</td>\n",
       "      <td>1.00</td>\n",
       "      <td>880</td>\n",
       "      <td>6380</td>\n",
       "      <td>1.0</td>\n",
       "      <td>7</td>\n",
       "      <td>880</td>\n",
       "      <td>0</td>\n",
       "      <td>1938</td>\n",
       "      <td>1994</td>\n",
       "      <td>47.6924</td>\n",
       "      <td>-122.322</td>\n",
       "    </tr>\n",
       "    <tr>\n",
       "      <th>1</th>\n",
       "      <td>20150213</td>\n",
       "      <td>4</td>\n",
       "      <td>2.50</td>\n",
       "      <td>2880</td>\n",
       "      <td>8833</td>\n",
       "      <td>2.0</td>\n",
       "      <td>7</td>\n",
       "      <td>2880</td>\n",
       "      <td>0</td>\n",
       "      <td>2006</td>\n",
       "      <td>0</td>\n",
       "      <td>47.5388</td>\n",
       "      <td>-121.890</td>\n",
       "    </tr>\n",
       "    <tr>\n",
       "      <th>2</th>\n",
       "      <td>20141215</td>\n",
       "      <td>4</td>\n",
       "      <td>2.50</td>\n",
       "      <td>1980</td>\n",
       "      <td>5020</td>\n",
       "      <td>2.0</td>\n",
       "      <td>7</td>\n",
       "      <td>1980</td>\n",
       "      <td>0</td>\n",
       "      <td>2007</td>\n",
       "      <td>0</td>\n",
       "      <td>47.5147</td>\n",
       "      <td>-122.190</td>\n",
       "    </tr>\n",
       "    <tr>\n",
       "      <th>3</th>\n",
       "      <td>20140617</td>\n",
       "      <td>3</td>\n",
       "      <td>2.50</td>\n",
       "      <td>2830</td>\n",
       "      <td>6536</td>\n",
       "      <td>2.0</td>\n",
       "      <td>9</td>\n",
       "      <td>2830</td>\n",
       "      <td>0</td>\n",
       "      <td>1989</td>\n",
       "      <td>0</td>\n",
       "      <td>47.7462</td>\n",
       "      <td>-122.172</td>\n",
       "    </tr>\n",
       "    <tr>\n",
       "      <th>4</th>\n",
       "      <td>20150410</td>\n",
       "      <td>3</td>\n",
       "      <td>1.75</td>\n",
       "      <td>1900</td>\n",
       "      <td>13600</td>\n",
       "      <td>1.0</td>\n",
       "      <td>8</td>\n",
       "      <td>1900</td>\n",
       "      <td>0</td>\n",
       "      <td>1956</td>\n",
       "      <td>0</td>\n",
       "      <td>47.6163</td>\n",
       "      <td>-122.219</td>\n",
       "    </tr>\n",
       "  </tbody>\n",
       "</table>\n",
       "</div>"
      ],
      "text/plain": [
       "       date  bedroom_num  bathroom_num  house_area  park_space  floor_num  \\\n",
       "0  20140502            2          1.00         880        6380        1.0   \n",
       "1  20150213            4          2.50        2880        8833        2.0   \n",
       "2  20141215            4          2.50        1980        5020        2.0   \n",
       "3  20140617            3          2.50        2830        6536        2.0   \n",
       "4  20150410            3          1.75        1900       13600        1.0   \n",
       "\n",
       "   house_score  covered_area  basement_area  yearbuilt  yearremodadd      lat  \\\n",
       "0            7           880              0       1938          1994  47.6924   \n",
       "1            7          2880              0       2006             0  47.5388   \n",
       "2            7          1980              0       2007             0  47.5147   \n",
       "3            9          2830              0       1989             0  47.7462   \n",
       "4            8          1900              0       1956             0  47.6163   \n",
       "\n",
       "      long  \n",
       "0 -122.322  \n",
       "1 -121.890  \n",
       "2 -122.190  \n",
       "3 -122.172  \n",
       "4 -122.219  "
      ]
     },
     "execution_count": 45,
     "metadata": {},
     "output_type": "execute_result"
    }
   ],
   "source": [
    "test_df.head()"
   ]
  },
  {
   "cell_type": "code",
   "execution_count": 46,
   "metadata": {},
   "outputs": [
    {
     "name": "stdout",
     "output_type": "stream",
     "text": [
      "<class 'pandas.core.frame.DataFrame'>\n",
      "RangeIndex: 3000 entries, 0 to 2999\n",
      "Data columns (total 13 columns):\n",
      " #   Column         Non-Null Count  Dtype  \n",
      "---  ------         --------------  -----  \n",
      " 0   date           3000 non-null   int64  \n",
      " 1   bedroom_num    3000 non-null   int64  \n",
      " 2   bathroom_num   3000 non-null   float64\n",
      " 3   house_area     3000 non-null   int64  \n",
      " 4   park_space     3000 non-null   int64  \n",
      " 5   floor_num      3000 non-null   float64\n",
      " 6   house_score    3000 non-null   int64  \n",
      " 7   covered_area   3000 non-null   int64  \n",
      " 8   basement_area  3000 non-null   int64  \n",
      " 9   yearbuilt      3000 non-null   int64  \n",
      " 10  yearremodadd   3000 non-null   int64  \n",
      " 11  lat            3000 non-null   float64\n",
      " 12  long           3000 non-null   float64\n",
      "dtypes: float64(4), int64(9)\n",
      "memory usage: 304.8 KB\n"
     ]
    }
   ],
   "source": [
    "test_df.info()"
   ]
  },
  {
   "cell_type": "raw",
   "id": "85dbbb0e12376873",
   "metadata": {
    "collapsed": false
   },
   "source": [
    "## 2.2.数据预处理\n",
    "\n",
    "### 2.2.1.数据划分\n",
    "\n",
    "机器学习的数据，可以划分为训练集、验证集和测试集，也可以划分为训练集和测试集。\n",
    "\n",
    "代码示例："
   ]
  },
  {
   "cell_type": "code",
   "execution_count": 3,
   "id": "d701f91881560eb",
   "metadata": {
    "collapsed": false
   },
   "outputs": [],
   "source": [
    "#from sklearn.model_selection import train_test_split\n",
    "\n",
    "# X_train, X_test, y_train, y_test = train_test_split(X,\n",
    "#                                                    y,\n",
    "#                                                    random_state=12,\n",
    "#                                                    stratify=y,\n",
    "#                                                    test_size=0.3)\n",
    "#将完整数据集的70%作为训练集，30%作为测试集，\n",
    "#并使得测试集和训练集中各类别数据的比例与原始数据集比例一致(stratify分层策略)，另外可通过设置shuffle=True 提前打乱数据。"
   ]
  },
  {
   "cell_type": "raw",
   "id": "dde636c2a3840ec",
   "metadata": {
    "collapsed": false
   },
   "source": [
    "2.2.2.数据变换操作\n",
    "sklearn.preprocessing模块包含了数据变换的主要操作，数据变换的方法如下：\n",
    "from sklearn.preprocessing import库名称\n",
    "\n",
    "下表使用Scikit-learn进⾏数据变换\n",
    "\n",
    "| 预处理操作           | 库名称             |\n",
    "|----------------------|--------------------|\n",
    "| 标准化               | StandardScaler     |\n",
    "| 最小最大标准化       | MinMaxScaler       |\n",
    "| One-Hot编码          | OneHotEncoder      |\n",
    "| 归一化               | Normalizer         |\n",
    "| 二值化(单个特征转换) | Binarizer          |\n",
    "| 标签编码             | LabelEncoder       |\n",
    "| 缺失值填补           | Imputer            |\n",
    "| 多项式特征生成       | PolynomialFeatures |\n",
    "\n",
    "代码示例："
   ]
  },
  {
   "cell_type": "code",
   "execution_count": 47,
   "id": "d1bc01d5300182f2",
   "metadata": {
    "collapsed": false
   },
   "outputs": [
    {
     "data": {
      "text/html": [
       "<div>\n",
       "<style scoped>\n",
       "    .dataframe tbody tr th:only-of-type {\n",
       "        vertical-align: middle;\n",
       "    }\n",
       "\n",
       "    .dataframe tbody tr th {\n",
       "        vertical-align: top;\n",
       "    }\n",
       "\n",
       "    .dataframe thead th {\n",
       "        text-align: right;\n",
       "    }\n",
       "</style>\n",
       "<table border=\"1\" class=\"dataframe\">\n",
       "  <thead>\n",
       "    <tr style=\"text-align: right;\">\n",
       "      <th></th>\n",
       "      <th>price</th>\n",
       "      <th>bedroom_num</th>\n",
       "      <th>bathroom_num</th>\n",
       "      <th>house_area</th>\n",
       "      <th>park_space</th>\n",
       "      <th>floor_num</th>\n",
       "      <th>house_score</th>\n",
       "      <th>covered_area</th>\n",
       "      <th>basement_area</th>\n",
       "      <th>yearbuilt</th>\n",
       "      <th>yearremodadd</th>\n",
       "      <th>lat</th>\n",
       "      <th>long</th>\n",
       "      <th>sell_year</th>\n",
       "      <th>sell_month</th>\n",
       "      <th>sell_day</th>\n",
       "      <th>house_old</th>\n",
       "      <th>fix_old</th>\n",
       "    </tr>\n",
       "  </thead>\n",
       "  <tbody>\n",
       "    <tr>\n",
       "      <th>0</th>\n",
       "      <td>545000</td>\n",
       "      <td>3</td>\n",
       "      <td>2.25</td>\n",
       "      <td>1670</td>\n",
       "      <td>6240</td>\n",
       "      <td>1.0</td>\n",
       "      <td>8</td>\n",
       "      <td>1240</td>\n",
       "      <td>430</td>\n",
       "      <td>1974</td>\n",
       "      <td>0</td>\n",
       "      <td>47.6413</td>\n",
       "      <td>-122.113</td>\n",
       "      <td>2015</td>\n",
       "      <td>3</td>\n",
       "      <td>2</td>\n",
       "      <td>41</td>\n",
       "      <td>2015</td>\n",
       "    </tr>\n",
       "    <tr>\n",
       "      <th>1</th>\n",
       "      <td>785000</td>\n",
       "      <td>4</td>\n",
       "      <td>2.50</td>\n",
       "      <td>3300</td>\n",
       "      <td>10514</td>\n",
       "      <td>2.0</td>\n",
       "      <td>10</td>\n",
       "      <td>3300</td>\n",
       "      <td>0</td>\n",
       "      <td>1984</td>\n",
       "      <td>0</td>\n",
       "      <td>47.6323</td>\n",
       "      <td>-122.036</td>\n",
       "      <td>2015</td>\n",
       "      <td>2</td>\n",
       "      <td>11</td>\n",
       "      <td>31</td>\n",
       "      <td>2015</td>\n",
       "    </tr>\n",
       "    <tr>\n",
       "      <th>2</th>\n",
       "      <td>765000</td>\n",
       "      <td>3</td>\n",
       "      <td>3.25</td>\n",
       "      <td>3190</td>\n",
       "      <td>5283</td>\n",
       "      <td>2.0</td>\n",
       "      <td>9</td>\n",
       "      <td>3190</td>\n",
       "      <td>0</td>\n",
       "      <td>2007</td>\n",
       "      <td>0</td>\n",
       "      <td>47.5534</td>\n",
       "      <td>-122.002</td>\n",
       "      <td>2015</td>\n",
       "      <td>1</td>\n",
       "      <td>7</td>\n",
       "      <td>8</td>\n",
       "      <td>2015</td>\n",
       "    </tr>\n",
       "    <tr>\n",
       "      <th>3</th>\n",
       "      <td>720000</td>\n",
       "      <td>5</td>\n",
       "      <td>2.50</td>\n",
       "      <td>2900</td>\n",
       "      <td>9525</td>\n",
       "      <td>2.0</td>\n",
       "      <td>9</td>\n",
       "      <td>2900</td>\n",
       "      <td>0</td>\n",
       "      <td>1989</td>\n",
       "      <td>0</td>\n",
       "      <td>47.5442</td>\n",
       "      <td>-122.138</td>\n",
       "      <td>2014</td>\n",
       "      <td>11</td>\n",
       "      <td>3</td>\n",
       "      <td>25</td>\n",
       "      <td>2014</td>\n",
       "    </tr>\n",
       "    <tr>\n",
       "      <th>4</th>\n",
       "      <td>449500</td>\n",
       "      <td>5</td>\n",
       "      <td>2.75</td>\n",
       "      <td>2040</td>\n",
       "      <td>7488</td>\n",
       "      <td>1.0</td>\n",
       "      <td>7</td>\n",
       "      <td>1200</td>\n",
       "      <td>840</td>\n",
       "      <td>1969</td>\n",
       "      <td>0</td>\n",
       "      <td>47.7289</td>\n",
       "      <td>-122.172</td>\n",
       "      <td>2014</td>\n",
       "      <td>6</td>\n",
       "      <td>3</td>\n",
       "      <td>45</td>\n",
       "      <td>2014</td>\n",
       "    </tr>\n",
       "  </tbody>\n",
       "</table>\n",
       "</div>"
      ],
      "text/plain": [
       "    price  bedroom_num  bathroom_num  house_area  park_space  floor_num  \\\n",
       "0  545000            3          2.25        1670        6240        1.0   \n",
       "1  785000            4          2.50        3300       10514        2.0   \n",
       "2  765000            3          3.25        3190        5283        2.0   \n",
       "3  720000            5          2.50        2900        9525        2.0   \n",
       "4  449500            5          2.75        2040        7488        1.0   \n",
       "\n",
       "   house_score  covered_area  basement_area  yearbuilt  yearremodadd      lat  \\\n",
       "0            8          1240            430       1974             0  47.6413   \n",
       "1           10          3300              0       1984             0  47.6323   \n",
       "2            9          3190              0       2007             0  47.5534   \n",
       "3            9          2900              0       1989             0  47.5442   \n",
       "4            7          1200            840       1969             0  47.7289   \n",
       "\n",
       "      long  sell_year  sell_month  sell_day  house_old  fix_old  \n",
       "0 -122.113       2015           3         2         41     2015  \n",
       "1 -122.036       2015           2        11         31     2015  \n",
       "2 -122.002       2015           1         7          8     2015  \n",
       "3 -122.138       2014          11         3         25     2014  \n",
       "4 -122.172       2014           6         3         45     2014  "
      ]
     },
     "execution_count": 47,
     "metadata": {},
     "output_type": "execute_result"
    }
   ],
   "source": [
    "# 处理日期数据\n",
    "train_df['sell_year'] = train_df['date'] // 10000\n",
    "train_df['sell_month'] = train_df['date'] % 10000 // 100\n",
    "train_df['sell_day'] = train_df['date'] % 100\n",
    "train_df['house_old'] = train_df['sell_year'] - train_df['yearbuilt']\n",
    "train_df['fix_old'] = train_df['sell_year'] - train_df['yearremodadd']\n",
    "train_df['fix_old'] = train_df['fix_old'].replace({-1: 0})  # 将未进行过修复的年数设为 0\n",
    "\n",
    "# 删除原始的 date 列\n",
    "train_df.drop('date', axis=1, inplace=True)\n",
    "\n",
    "# 显示更新后的 DataFrame\n",
    "train_df.head()\n"
   ]
  },
  {
   "cell_type": "code",
   "execution_count": 48,
   "metadata": {},
   "outputs": [
    {
     "data": {
      "text/html": [
       "<div>\n",
       "<style scoped>\n",
       "    .dataframe tbody tr th:only-of-type {\n",
       "        vertical-align: middle;\n",
       "    }\n",
       "\n",
       "    .dataframe tbody tr th {\n",
       "        vertical-align: top;\n",
       "    }\n",
       "\n",
       "    .dataframe thead th {\n",
       "        text-align: right;\n",
       "    }\n",
       "</style>\n",
       "<table border=\"1\" class=\"dataframe\">\n",
       "  <thead>\n",
       "    <tr style=\"text-align: right;\">\n",
       "      <th></th>\n",
       "      <th>bedroom_num</th>\n",
       "      <th>bathroom_num</th>\n",
       "      <th>house_area</th>\n",
       "      <th>park_space</th>\n",
       "      <th>floor_num</th>\n",
       "      <th>house_score</th>\n",
       "      <th>covered_area</th>\n",
       "      <th>basement_area</th>\n",
       "      <th>yearbuilt</th>\n",
       "      <th>yearremodadd</th>\n",
       "      <th>lat</th>\n",
       "      <th>long</th>\n",
       "      <th>sell_year</th>\n",
       "      <th>sell_month</th>\n",
       "      <th>sell_day</th>\n",
       "      <th>house_old</th>\n",
       "      <th>fix_old</th>\n",
       "    </tr>\n",
       "  </thead>\n",
       "  <tbody>\n",
       "    <tr>\n",
       "      <th>0</th>\n",
       "      <td>2</td>\n",
       "      <td>1.00</td>\n",
       "      <td>880</td>\n",
       "      <td>6380</td>\n",
       "      <td>1.0</td>\n",
       "      <td>7</td>\n",
       "      <td>880</td>\n",
       "      <td>0</td>\n",
       "      <td>1938</td>\n",
       "      <td>1994</td>\n",
       "      <td>47.6924</td>\n",
       "      <td>-122.322</td>\n",
       "      <td>2014</td>\n",
       "      <td>5</td>\n",
       "      <td>2</td>\n",
       "      <td>76</td>\n",
       "      <td>20</td>\n",
       "    </tr>\n",
       "    <tr>\n",
       "      <th>1</th>\n",
       "      <td>4</td>\n",
       "      <td>2.50</td>\n",
       "      <td>2880</td>\n",
       "      <td>8833</td>\n",
       "      <td>2.0</td>\n",
       "      <td>7</td>\n",
       "      <td>2880</td>\n",
       "      <td>0</td>\n",
       "      <td>2006</td>\n",
       "      <td>0</td>\n",
       "      <td>47.5388</td>\n",
       "      <td>-121.890</td>\n",
       "      <td>2015</td>\n",
       "      <td>2</td>\n",
       "      <td>13</td>\n",
       "      <td>9</td>\n",
       "      <td>2015</td>\n",
       "    </tr>\n",
       "    <tr>\n",
       "      <th>2</th>\n",
       "      <td>4</td>\n",
       "      <td>2.50</td>\n",
       "      <td>1980</td>\n",
       "      <td>5020</td>\n",
       "      <td>2.0</td>\n",
       "      <td>7</td>\n",
       "      <td>1980</td>\n",
       "      <td>0</td>\n",
       "      <td>2007</td>\n",
       "      <td>0</td>\n",
       "      <td>47.5147</td>\n",
       "      <td>-122.190</td>\n",
       "      <td>2014</td>\n",
       "      <td>12</td>\n",
       "      <td>15</td>\n",
       "      <td>7</td>\n",
       "      <td>2014</td>\n",
       "    </tr>\n",
       "    <tr>\n",
       "      <th>3</th>\n",
       "      <td>3</td>\n",
       "      <td>2.50</td>\n",
       "      <td>2830</td>\n",
       "      <td>6536</td>\n",
       "      <td>2.0</td>\n",
       "      <td>9</td>\n",
       "      <td>2830</td>\n",
       "      <td>0</td>\n",
       "      <td>1989</td>\n",
       "      <td>0</td>\n",
       "      <td>47.7462</td>\n",
       "      <td>-122.172</td>\n",
       "      <td>2014</td>\n",
       "      <td>6</td>\n",
       "      <td>17</td>\n",
       "      <td>25</td>\n",
       "      <td>2014</td>\n",
       "    </tr>\n",
       "    <tr>\n",
       "      <th>4</th>\n",
       "      <td>3</td>\n",
       "      <td>1.75</td>\n",
       "      <td>1900</td>\n",
       "      <td>13600</td>\n",
       "      <td>1.0</td>\n",
       "      <td>8</td>\n",
       "      <td>1900</td>\n",
       "      <td>0</td>\n",
       "      <td>1956</td>\n",
       "      <td>0</td>\n",
       "      <td>47.6163</td>\n",
       "      <td>-122.219</td>\n",
       "      <td>2015</td>\n",
       "      <td>4</td>\n",
       "      <td>10</td>\n",
       "      <td>59</td>\n",
       "      <td>2015</td>\n",
       "    </tr>\n",
       "  </tbody>\n",
       "</table>\n",
       "</div>"
      ],
      "text/plain": [
       "   bedroom_num  bathroom_num  house_area  park_space  floor_num  house_score  \\\n",
       "0            2          1.00         880        6380        1.0            7   \n",
       "1            4          2.50        2880        8833        2.0            7   \n",
       "2            4          2.50        1980        5020        2.0            7   \n",
       "3            3          2.50        2830        6536        2.0            9   \n",
       "4            3          1.75        1900       13600        1.0            8   \n",
       "\n",
       "   covered_area  basement_area  yearbuilt  yearremodadd      lat     long  \\\n",
       "0           880              0       1938          1994  47.6924 -122.322   \n",
       "1          2880              0       2006             0  47.5388 -121.890   \n",
       "2          1980              0       2007             0  47.5147 -122.190   \n",
       "3          2830              0       1989             0  47.7462 -122.172   \n",
       "4          1900              0       1956             0  47.6163 -122.219   \n",
       "\n",
       "   sell_year  sell_month  sell_day  house_old  fix_old  \n",
       "0       2014           5         2         76       20  \n",
       "1       2015           2        13          9     2015  \n",
       "2       2014          12        15          7     2014  \n",
       "3       2014           6        17         25     2014  \n",
       "4       2015           4        10         59     2015  "
      ]
     },
     "execution_count": 48,
     "metadata": {},
     "output_type": "execute_result"
    }
   ],
   "source": [
    "# 处理日期数据\n",
    "test_df['sell_year'] = test_df['date'] // 10000\n",
    "test_df['sell_month'] = test_df['date'] % 10000 // 100\n",
    "test_df['sell_day'] = test_df['date'] % 100\n",
    "test_df['house_old'] = test_df['sell_year'] - test_df['yearbuilt']\n",
    "test_df['fix_old'] = test_df['sell_year'] - test_df['yearremodadd']\n",
    "test_df['fix_old'] = test_df['fix_old'].replace({-1: 0})  # 将未进行过修复的年数设为 0\n",
    "\n",
    "# 删除原始的 date 列\n",
    "test_df.drop('date', axis=1, inplace=True)\n",
    "\n",
    "# 显示更新后的 DataFrame\n",
    "test_df.head()"
   ]
  },
  {
   "cell_type": "code",
   "execution_count": 49,
   "metadata": {},
   "outputs": [
    {
     "name": "stdout",
     "output_type": "stream",
     "text": [
      "count    1.000000e+04\n",
      "mean     5.428749e+05\n",
      "std      3.729258e+05\n",
      "min      7.500000e+04\n",
      "25%      3.225000e+05\n",
      "50%      4.507000e+05\n",
      "75%      6.450000e+05\n",
      "max      6.885000e+06\n",
      "Name: price, dtype: float64\n"
     ]
    }
   ],
   "source": [
    "#观察数据\n",
    "print(train_df['price'].describe())"
   ]
  },
  {
   "cell_type": "code",
   "execution_count": 50,
   "metadata": {},
   "outputs": [
    {
     "name": "stderr",
     "output_type": "stream",
     "text": [
      "C:\\Users\\FOMO\\AppData\\Local\\Temp\\ipykernel_7944\\637160992.py:4: UserWarning: \n",
      "\n",
      "`distplot` is a deprecated function and will be removed in seaborn v0.14.0.\n",
      "\n",
      "Please adapt your code to use either `displot` (a figure-level function with\n",
      "similar flexibility) or `histplot` (an axes-level function for histograms).\n",
      "\n",
      "For a guide to updating your code to use the new functions, please see\n",
      "https://gist.github.com/mwaskom/de44147ed2974457ad6372750bbe5751\n",
      "\n",
      "  sns.distplot(train_df['price'])\n"
     ]
    },
    {
     "data": {
      "text/plain": [
       "<Axes: xlabel='price', ylabel='Density'>"
      ]
     },
     "execution_count": 50,
     "metadata": {},
     "output_type": "execute_result"
    },
    {
     "data": {
      "image/png": "[encoded data removed]",
      "text/plain": [
       "<Figure size 1000x500 with 1 Axes>"
      ]
     },
     "metadata": {},
     "output_type": "display_data"
    }
   ],
   "source": [
    "#观察price的数据分布\n",
    "plt.figure(figsize = (10,5))\n",
    "# plt.xlabel('price')\n",
    "sns.distplot(train_df['price'])"
   ]
  },
  {
   "cell_type": "code",
   "execution_count": 52,
   "metadata": {},
   "outputs": [
    {
     "data": {
      "text/html": [
       "<div>\n",
       "<style scoped>\n",
       "    .dataframe tbody tr th:only-of-type {\n",
       "        vertical-align: middle;\n",
       "    }\n",
       "\n",
       "    .dataframe tbody tr th {\n",
       "        vertical-align: top;\n",
       "    }\n",
       "\n",
       "    .dataframe thead th {\n",
       "        text-align: right;\n",
       "    }\n",
       "</style>\n",
       "<table border=\"1\" class=\"dataframe\">\n",
       "  <thead>\n",
       "    <tr style=\"text-align: right;\">\n",
       "      <th></th>\n",
       "      <th>bedroom_num</th>\n",
       "      <th>bathroom_num</th>\n",
       "      <th>house_area</th>\n",
       "      <th>park_space</th>\n",
       "      <th>floor_num</th>\n",
       "      <th>house_score</th>\n",
       "      <th>covered_area</th>\n",
       "      <th>basement_area</th>\n",
       "      <th>yearbuilt</th>\n",
       "      <th>yearremodadd</th>\n",
       "      <th>lat</th>\n",
       "      <th>long</th>\n",
       "      <th>sell_year</th>\n",
       "      <th>sell_month</th>\n",
       "      <th>sell_day</th>\n",
       "      <th>house_old</th>\n",
       "      <th>fix_old</th>\n",
       "    </tr>\n",
       "  </thead>\n",
       "  <tbody>\n",
       "    <tr>\n",
       "      <th>0</th>\n",
       "      <td>0.3</td>\n",
       "      <td>0.290323</td>\n",
       "      <td>0.134737</td>\n",
       "      <td>0.003434</td>\n",
       "      <td>0.0</td>\n",
       "      <td>0.5</td>\n",
       "      <td>0.100354</td>\n",
       "      <td>0.089212</td>\n",
       "      <td>0.643478</td>\n",
       "      <td>0.0</td>\n",
       "      <td>0.779557</td>\n",
       "      <td>0.337209</td>\n",
       "      <td>1.0</td>\n",
       "      <td>0.181818</td>\n",
       "      <td>0.033333</td>\n",
       "      <td>0.362069</td>\n",
       "      <td>1.000000</td>\n",
       "    </tr>\n",
       "    <tr>\n",
       "      <th>1</th>\n",
       "      <td>0.4</td>\n",
       "      <td>0.322581</td>\n",
       "      <td>0.306316</td>\n",
       "      <td>0.006023</td>\n",
       "      <td>0.4</td>\n",
       "      <td>0.7</td>\n",
       "      <td>0.343566</td>\n",
       "      <td>0.000000</td>\n",
       "      <td>0.730435</td>\n",
       "      <td>0.0</td>\n",
       "      <td>0.765001</td>\n",
       "      <td>0.401163</td>\n",
       "      <td>1.0</td>\n",
       "      <td>0.090909</td>\n",
       "      <td>0.333333</td>\n",
       "      <td>0.275862</td>\n",
       "      <td>1.000000</td>\n",
       "    </tr>\n",
       "    <tr>\n",
       "      <th>2</th>\n",
       "      <td>0.3</td>\n",
       "      <td>0.419355</td>\n",
       "      <td>0.294737</td>\n",
       "      <td>0.002854</td>\n",
       "      <td>0.4</td>\n",
       "      <td>0.6</td>\n",
       "      <td>0.330579</td>\n",
       "      <td>0.000000</td>\n",
       "      <td>0.930435</td>\n",
       "      <td>0.0</td>\n",
       "      <td>0.637393</td>\n",
       "      <td>0.429402</td>\n",
       "      <td>1.0</td>\n",
       "      <td>0.000000</td>\n",
       "      <td>0.200000</td>\n",
       "      <td>0.077586</td>\n",
       "      <td>1.000000</td>\n",
       "    </tr>\n",
       "    <tr>\n",
       "      <th>3</th>\n",
       "      <td>0.5</td>\n",
       "      <td>0.322581</td>\n",
       "      <td>0.264211</td>\n",
       "      <td>0.005423</td>\n",
       "      <td>0.4</td>\n",
       "      <td>0.6</td>\n",
       "      <td>0.296340</td>\n",
       "      <td>0.000000</td>\n",
       "      <td>0.773913</td>\n",
       "      <td>0.0</td>\n",
       "      <td>0.622513</td>\n",
       "      <td>0.316445</td>\n",
       "      <td>0.0</td>\n",
       "      <td>0.909091</td>\n",
       "      <td>0.066667</td>\n",
       "      <td>0.224138</td>\n",
       "      <td>0.999504</td>\n",
       "    </tr>\n",
       "    <tr>\n",
       "      <th>4</th>\n",
       "      <td>0.5</td>\n",
       "      <td>0.354839</td>\n",
       "      <td>0.173684</td>\n",
       "      <td>0.004190</td>\n",
       "      <td>0.0</td>\n",
       "      <td>0.4</td>\n",
       "      <td>0.095632</td>\n",
       "      <td>0.174274</td>\n",
       "      <td>0.600000</td>\n",
       "      <td>0.0</td>\n",
       "      <td>0.921236</td>\n",
       "      <td>0.288206</td>\n",
       "      <td>0.0</td>\n",
       "      <td>0.454545</td>\n",
       "      <td>0.066667</td>\n",
       "      <td>0.396552</td>\n",
       "      <td>0.999504</td>\n",
       "    </tr>\n",
       "  </tbody>\n",
       "</table>\n",
       "</div>"
      ],
      "text/plain": [
       "   bedroom_num  bathroom_num  house_area  park_space  floor_num  house_score  \\\n",
       "0          0.3      0.290323    0.134737    0.003434        0.0          0.5   \n",
       "1          0.4      0.322581    0.306316    0.006023        0.4          0.7   \n",
       "2          0.3      0.419355    0.294737    0.002854        0.4          0.6   \n",
       "3          0.5      0.322581    0.264211    0.005423        0.4          0.6   \n",
       "4          0.5      0.354839    0.173684    0.004190        0.0          0.4   \n",
       "\n",
       "   covered_area  basement_area  yearbuilt  yearremodadd       lat      long  \\\n",
       "0      0.100354       0.089212   0.643478           0.0  0.779557  0.337209   \n",
       "1      0.343566       0.000000   0.730435           0.0  0.765001  0.401163   \n",
       "2      0.330579       0.000000   0.930435           0.0  0.637393  0.429402   \n",
       "3      0.296340       0.000000   0.773913           0.0  0.622513  0.316445   \n",
       "4      0.095632       0.174274   0.600000           0.0  0.921236  0.288206   \n",
       "\n",
       "   sell_year  sell_month  sell_day  house_old   fix_old  \n",
       "0        1.0    0.181818  0.033333   0.362069  1.000000  \n",
       "1        1.0    0.090909  0.333333   0.275862  1.000000  \n",
       "2        1.0    0.000000  0.200000   0.077586  1.000000  \n",
       "3        0.0    0.909091  0.066667   0.224138  0.999504  \n",
       "4        0.0    0.454545  0.066667   0.396552  0.999504  "
      ]
     },
     "execution_count": 52,
     "metadata": {},
     "output_type": "execute_result"
    }
   ],
   "source": [
    "#使⽤Scikit-learn进⾏数据标准化\n",
    "from sklearn.preprocessing import StandardScaler, MinMaxScaler, OneHotEncoder, LabelEncoder, Normalizer, Binarizer, PolynomialFeatures\n",
    "\n",
    "#特征缩放\n",
    "data = train_df.astype('float')\n",
    "x = data.drop('price',axis=1)\n",
    "y = data['price']\n",
    "\n",
    "scaler = MinMaxScaler()\n",
    "newX = scaler.fit_transform(x)\n",
    "new_test_df = scaler.transform(test_df)\n",
    "\n",
    "newX = pd.DataFrame(newX, columns=x.columns)\n",
    "new_test_df = pd.DataFrame(new_test_df, columns=test_df.columns)\n",
    "newX.head()"
   ]
  },
  {
   "cell_type": "code",
   "execution_count": 53,
   "metadata": {},
   "outputs": [],
   "source": [
    "# 准备数据\n",
    "X_train = newX\n",
    "y_train = y"
   ]
  },
  {
   "cell_type": "raw",
   "id": "156d4d6d65fdbbaf",
   "metadata": {
    "collapsed": false
   },
   "source": [
    "## 2.3监督学习算法\n",
    "\n",
    "### 2.3.1.监督学习算法-回归\n",
    "\n",
    "表常见的回归模型\n",
    "\n",
    "| 回归模型名称   | 库名称                     |\n",
    "|----------------|----------------------------|\n",
    "| 线性回归       | LinearRegression           |\n",
    "| 岭回归         | Ridge                      |\n",
    "| LASSO回归      | LASSO                      |\n",
    "| ElasticNet回归 | ElasticNet                 |\n",
    "| 决策树回归     | tree.DecisionTreeRegressor |\n",
    "代码示例："
   ]
  },
  {
   "cell_type": "code",
   "execution_count": 64,
   "id": "b5efdb796fd852e6",
   "metadata": {
    "collapsed": false
   },
   "outputs": [],
   "source": [
    "#从线性模型库导入线性回归模型\n",
    "from sklearn.linear_model import LinearRegression\n",
    "\n",
    "# 构建模型实例\n",
    "lr = LinearRegression()\n",
    "# 训练模型\n",
    "lr.fit(X_train, y_train)\n",
    "\n",
    "# 作出预测\n",
    "y_pred_1 = lr.predict(new_test_df)\n"
   ]
  },
  {
   "cell_type": "code",
   "execution_count": 65,
   "metadata": {},
   "outputs": [
    {
     "name": "stdout",
     "output_type": "stream",
     "text": [
      "[463360. 470784. 291072. ... 269312. 850432. 883072.]\n"
     ]
    }
   ],
   "source": [
    "print(y_pred_1)"
   ]
  },
  {
   "cell_type": "raw",
   "id": "4726432cb91f703e",
   "metadata": {
    "collapsed": false
   },
   "source": [
    "### 2.3.2.监督学习算法-分类\n",
    "\n",
    "表常见的分类模型\n",
    "\n",
    "| 模型名称   | 库名称                               |\n",
    "|------------|--------------------------------------|\n",
    "| 逻辑回归   | linear model.LogisticRearession      |\n",
    "| 支持向量机 | svm.SVC                              |\n",
    "| 朴素贝叶斯 | naïve_bayes.GaussianNB               |\n",
    "| KNN        | neighbors.NearestNeighbors           |\n",
    "| 随机森林   | ensemble.RandomForestClassifier      |\n",
    "| GBDT       | ensemble.GradientBoostingClassifier  |\n",
    "代码示例："
   ]
  },
  {
   "cell_type": "code",
   "execution_count": 66,
   "id": "a7e0a5250237f012",
   "metadata": {
    "collapsed": false
   },
   "outputs": [],
   "source": [
    "#从树模型库导入决策树\n",
    "from sklearn.tree import DecisionTreeClassifier\n",
    "#定义模型\n",
    "clf = DecisionTreeClassifier(max_depth=5)\n",
    "#训练模型\n",
    "clf.fit(X_train, y_train)\n",
    "#使用决策树分类算法解决二分类问题，得到的是类别\n",
    "y_pred_2 = clf.predict(new_test_df)\n",
    "#y_prob 为每个样本预测为“0”和“1”类的概率\n",
    "y_prob = clf.predict_proba(new_test_df)"
   ]
  },
  {
   "cell_type": "code",
   "execution_count": 67,
   "metadata": {},
   "outputs": [
    {
     "name": "stdout",
     "output_type": "stream",
     "text": [
      "[500000. 750000. 300000. ... 500000. 375000. 525000.]\n"
     ]
    }
   ],
   "source": [
    "print(y_pred_2)"
   ]
  },
  {
   "cell_type": "raw",
   "id": "9d625d5eef5c133b",
   "metadata": {
    "collapsed": false
   },
   "source": [
    " ## 2.4.无监督学习算法\n",
    "\n",
    "### 2.4.1.聚类算法\n",
    "\n",
    "sklearn.cluster模块包含了一系列无监督聚类算法，聚类使用的方法如下：\n",
    "\n",
    "from sklearn.cluster import库名称\n",
    "\n",
    "表常见的聚类模型\n",
    "\n",
    "| 模型名称 | 库名称                   |\n",
    "|----------|--------------------------|\n",
    "| K-means  | KMeans                   |\n",
    "| DBSCAN   | DBSCAN                   |\n",
    "| 层次聚类 | AgglomerativeClustering  |\n",
    "| 谱聚类   | SpectralClustering       |\n",
    "代码示例：\n"
   ]
  },
  {
   "cell_type": "code",
   "execution_count": 68,
   "id": "48c21cf2beaea865",
   "metadata": {
    "collapsed": false
   },
   "outputs": [
    {
     "name": "stderr",
     "output_type": "stream",
     "text": [
      "c:\\ProgramData\\Anaconda3\\envs\\pytorch\\lib\\site-packages\\sklearn\\cluster\\_kmeans.py:1416: FutureWarning: The default value of `n_init` will change from 10 to 'auto' in 1.4. Set the value of `n_init` explicitly to suppress the warning\n",
      "  super()._check_params_vs_input(X, default_n_init=10)\n"
     ]
    },
    {
     "data": {
      "text/plain": [
       "array([0, 2, 1, ..., 0, 0, 1])"
      ]
     },
     "execution_count": 68,
     "metadata": {},
     "output_type": "execute_result"
    }
   ],
   "source": [
    "#从聚类模型库导入kmeans  \n",
    "from sklearn.cluster import KMeans  \n",
    "#构建聚类实例  \n",
    "kmeans = KMeans(n_clusters=3, random_state=0)  \n",
    "#拟合  \n",
    "kmeans.fit(X_train)  \n",
    "#预测  \n",
    "kmeans.predict(new_test_df) "
   ]
  },
  {
   "cell_type": "raw",
   "id": "a546e494b2a5b81",
   "metadata": {
    "collapsed": false
   },
   "source": [
    "### 2.4.2.降维算法\n",
    "\n",
    "Scikit-learn中降维算法都被包括在模块decomposition中，sklearn.decomposition模块本质是一个矩阵分解模块。最常见的降维方法是PCA(主成分分析)。\n",
    "\n",
    "降维的使用的方法如下：\n",
    "\n",
    "`from sklearn.decomposition import 库名称`\n",
    "\n",
    "代码示例："
   ]
  },
  {
   "cell_type": "code",
   "execution_count": 69,
   "id": "ed70a038964655bc",
   "metadata": {
    "collapsed": false
   },
   "outputs": [
    {
     "name": "stdout",
     "output_type": "stream",
     "text": [
      "[0.36059079 0.21498857 0.10963798]\n",
      "[0.27534194 0.16416218 0.08371799]\n"
     ]
    }
   ],
   "source": [
    "#导入PCA库\n",
    "from sklearn.decomposition import PCA\n",
    "#设置主成分数量为3，n_components代表主成分数量\n",
    "pca = PCA(n_components=3)\n",
    "#训练模型\n",
    "pca.fit(X_train)\n",
    "#投影后各个特征维度的方差比例(这里是三个主成分)\n",
    "print(pca.explained_variance_ratio_)\n",
    "#投影后的特征维度的方差\n",
    "print(pca.explained_variance_)"
   ]
  },
  {
   "cell_type": "raw",
   "id": "87963a0d293f4954",
   "metadata": {
    "collapsed": false
   },
   "source": [
    "## 2.5.评价指标\n",
    "\n",
    "sklearn.metrics模块包含了一系列用于评价模型的评分函数、损失函数以及成对数据的距离度量函数。评价指标主要分为分类评价指标、回归评价指标等等，这里列举了常见的几种评价指标。\n",
    "\n",
    "评价指标使用的方法如下：\n",
    "\n",
    "`from sklearn.metrics import 库名称`\n",
    "\n",
    "\n",
    "| 评价指标             | 库名称                | 使用范围 |\n",
    "|----------------------|-----------------------|----------|\n",
    "| 正确率               | accuracy_score        | 分类     |\n",
    "| 精确率               | precision_score       | 分类     |\n",
    "| F1 值                | f1_score              | 分类     |\n",
    "| 对数损失             | log_loss              | 分类     |\n",
    "| 混淆矩阵             | confusion_matrix      | 分类     |\n",
    "| 含多种评价的分类报告 | classification_report | 分类     |\n",
    "| 均方误差MSE          | mean_squared_error    | 回归     |\n",
    "| 平均绝对误差MAE      | mean_absolute_error   | 回归     |\n",
    "| 决定系数R2           | r2_score              | 回归     |\n",
    "\n",
    "代码示例："
   ]
  },
  {
   "cell_type": "code",
   "execution_count": 19,
   "id": "e581318cf2097b66",
   "metadata": {
    "collapsed": false
   },
   "outputs": [
    {
     "ename": "NameError",
     "evalue": "name 'y_test' is not defined",
     "output_type": "error",
     "traceback": [
      "\u001b[1;31m---------------------------------------------------------------------------\u001b[0m",
      "\u001b[1;31mNameError\u001b[0m                                 Traceback (most recent call last)",
      "\u001b[1;32mc:\\Users\\FOMO\\Desktop\\机械学习\\实验1\\test1.ipynb Cell 32\u001b[0m line \u001b[0;36m4\n\u001b[0;32m      <a href='vscode-notebook-cell:/c%3A/Users/FOMO/Desktop/%E6%9C%BA%E6%A2%B0%E5%AD%A6%E4%B9%A0/%E5%AE%9E%E9%AA%8C1/test1.ipynb#X43sZmlsZQ%3D%3D?line=1'>2</a>\u001b[0m \u001b[39mfrom\u001b[39;00m \u001b[39msklearn\u001b[39;00m\u001b[39m.\u001b[39;00m\u001b[39mmetrics\u001b[39;00m \u001b[39mimport\u001b[39;00m accuracy_score\n\u001b[0;32m      <a href='vscode-notebook-cell:/c%3A/Users/FOMO/Desktop/%E6%9C%BA%E6%A2%B0%E5%AD%A6%E4%B9%A0/%E5%AE%9E%E9%AA%8C1/test1.ipynb#X43sZmlsZQ%3D%3D?line=2'>3</a>\u001b[0m \u001b[39m#计算样本的准确率\u001b[39;00m\n\u001b[1;32m----> <a href='vscode-notebook-cell:/c%3A/Users/FOMO/Desktop/%E6%9C%BA%E6%A2%B0%E5%AD%A6%E4%B9%A0/%E5%AE%9E%E9%AA%8C1/test1.ipynb#X43sZmlsZQ%3D%3D?line=3'>4</a>\u001b[0m accuracy_score(y_test, y_pred_2)\n\u001b[0;32m      <a href='vscode-notebook-cell:/c%3A/Users/FOMO/Desktop/%E6%9C%BA%E6%A2%B0%E5%AD%A6%E4%B9%A0/%E5%AE%9E%E9%AA%8C1/test1.ipynb#X43sZmlsZQ%3D%3D?line=4'>5</a>\u001b[0m \u001b[39m#对于测试集而言，大部分函数都必须包含真实值y_test和预测值y_pred\u001b[39;00m\n",
      "\u001b[1;31mNameError\u001b[0m: name 'y_test' is not defined"
     ]
    }
   ],
   "source": [
    "#从评价指标库导入准确率\n",
    "from sklearn.metrics import accuracy_score\n",
    "#计算样本的准确率\n",
    "accuracy_score(y_test, y_pred_2)\n",
    "#对于测试集而言，大部分函数都必须包含真实值y_test和预测值y_pred"
   ]
  },
  {
   "cell_type": "raw",
   "id": "544e987cf72e0293",
   "metadata": {
    "collapsed": false
   },
   "source": [
    "## 2.6.交叉验证及超参数调优\n",
    "\n",
    "### 2.6.1.交叉验证\n",
    "代码示例："
   ]
  },
  {
   "cell_type": "code",
   "execution_count": 72,
   "id": "968bd2ed2087efdd",
   "metadata": {
    "collapsed": false
   },
   "outputs": [
    {
     "name": "stderr",
     "output_type": "stream",
     "text": [
      "c:\\ProgramData\\Anaconda3\\envs\\pytorch\\lib\\site-packages\\sklearn\\model_selection\\_split.py:737: UserWarning: The least populated class in y has only 1 members, which is less than n_splits=3.\n",
      "  warnings.warn(\n"
     ]
    }
   ],
   "source": [
    "#从模型选择库导入交叉验证分数  \n",
    "from sklearn.model_selection import cross_val_score    \n",
    "clf = DecisionTreeClassifier(max_depth=5)  \n",
    "#使用5折交叉验证对决策树模型进行评估，使用的评分函数为F1值  \n",
    "scores = cross_val_score(clf, X_train, y_train,cv=3, scoring='f1_weighted')"
   ]
  },
  {
   "cell_type": "code",
   "execution_count": 73,
   "metadata": {},
   "outputs": [
    {
     "name": "stdout",
     "output_type": "stream",
     "text": [
      "交叉验证的 F1 分数: [0.00239874 0.00218124 0.00257866]\n"
     ]
    }
   ],
   "source": [
    "print(\"交叉验证的 F1 分数:\", scores)\n"
   ]
  },
  {
   "cell_type": "raw",
   "id": "822387f6685865f9",
   "metadata": {
    "collapsed": false
   },
   "source": [
    "此外，Scikit-learn提供了部分带交叉验证功能的模型类如LogisticRegressionCV、LassoCV、等，这些类包含CV参数。\n",
    "2.6.2.超参数调优\n",
    "在机器学习中，超参数是指无法从数据中学习而需要在训练前提供的参数。机器学习模型的性能在很大程度上依赖于寻找最佳超参数集。\n",
    "超参数调整一般是指调整模型的超参数，这基本上是一个非常耗时的过程。目前主要有 3 种最流行的超参数调整技术：网格搜索、随机搜索和贝叶斯搜索，其中Scikit-learn内置了网格搜索、随机搜索，本章进行简单讲解，其余调参方法如贝叶斯搜索，本章不进行讨论。\n",
    "1.超参数调优⸺网格搜索\n",
    "代码示例："
   ]
  },
  {
   "cell_type": "code",
   "execution_count": 101,
   "id": "50f95e917bd601f0",
   "metadata": {
    "collapsed": false
   },
   "outputs": [
    {
     "name": "stderr",
     "output_type": "stream",
     "text": [
      "c:\\ProgramData\\Anaconda3\\envs\\pytorch\\lib\\site-packages\\sklearn\\model_selection\\_split.py:737: UserWarning: The least populated class in y has only 1 members, which is less than n_splits=3.\n",
      "  warnings.warn(\n"
     ]
    },
    {
     "data": {
      "text/plain": [
       "{'C': 10, 'kernel': 'linear'}"
      ]
     },
     "execution_count": 101,
     "metadata": {},
     "output_type": "execute_result"
    }
   ],
   "source": [
    "#从模型选择库导入网格搜索\n",
    "from sklearn.model_selection import GridSearchCV\n",
    "from sklearn import svm\n",
    "\n",
    "svc = svm.SVC()\n",
    "#把超参数集合作为字典\n",
    "params = {'kernel': ['linear', 'rbf'], 'C': [1, 10]}\n",
    "#进行网格搜索，使用了支持向量机分类器，并进行五折交叉验证\n",
    "grid_search = GridSearchCV(svc, params, cv=3, n_jobs=-1)\n",
    "#模型训练\n",
    "grid_search.fit(X_train, y_train)\n",
    "#获取模型最优超参数组合\n",
    "grid_search.best_params_"
   ]
  },
  {
   "cell_type": "raw",
   "id": "60f5cdce22dddcfc",
   "metadata": {
    "collapsed": false
   },
   "source": [
    "在参数网格上进行穷举搜索，方法简单但是搜索速度慢(超参数较多时)，且不容易找到参数空间中的局部最优。\n",
    "2.超参数调优⸺随机搜索\n",
    "代码示例："
   ]
  },
  {
   "cell_type": "code",
   "execution_count": 24,
   "id": "e5bd9a42a749b207",
   "metadata": {
    "collapsed": false
   },
   "outputs": [
    {
     "name": "stderr",
     "output_type": "stream",
     "text": [
      "c:\\ProgramData\\Anaconda3\\envs\\pytorch\\lib\\site-packages\\sklearn\\model_selection\\_split.py:737: UserWarning: The least populated class in y has only 1 members, which is less than n_splits=5.\n",
      "  warnings.warn(\n"
     ]
    },
    {
     "data": {
      "text/plain": [
       "{'C': 13, 'kernel': 'linear'}"
      ]
     },
     "execution_count": 24,
     "metadata": {},
     "output_type": "execute_result"
    }
   ],
   "source": [
    "#从模型选择库导入随机搜索\n",
    "from sklearn.model_selection import RandomizedSearchCV\n",
    "from scipy.stats import randint\n",
    "from sklearn import svm\n",
    "\n",
    "svc = svm.SVC()\n",
    "#把超参数组合作为字典\n",
    "param_dist = {'kernel': ['linear', 'rbf'], 'C': randint(1, 20)}\n",
    "#进行随机搜索\n",
    "random_search = RandomizedSearchCV(svc, param_dist, n_iter=3, n_jobs=-1)\n",
    "#模型训练\n",
    "random_search.fit(X_train, y_train)\n",
    "#获取最优超参数组合\n",
    "random_search.best_params_"
   ]
  },
  {
   "cell_type": "raw",
   "id": "e66444dc48d41f0e",
   "metadata": {
    "collapsed": false
   },
   "source": [
    "在参数子空间中进行随机搜索，选取空间中的100个点进行建模(可从scipy.stats常见分布如正态分布norm、均匀分布uniform中随机采样得到)，时间耗费较少，更容易找到局部最优。"
   ]
  }
 ],
 "metadata": {
  "kernelspec": {
   "display_name": "Python 3",
   "language": "python",
   "name": "python3"
  },
  "language_info": {
   "codemirror_mode": {
    "name": "ipython",
    "version": 3
   },
   "file_extension": ".py",
   "mimetype": "text/x-python",
   "name": "python",
   "nbconvert_exporter": "python",
   "pygments_lexer": "ipython3",
   "version": "3.9.18"
  }
 },
 "nbformat": 4,
 "nbformat_minor": 5
}
